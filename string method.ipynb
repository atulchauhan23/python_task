{
 "cells": [
  {
   "cell_type": "markdown",
   "id": "d063e3bc-e0ea-4820-a09f-81f76b5342cc",
   "metadata": {},
   "source": [
    "# Capitalize"
   ]
  },
  {
   "cell_type": "code",
   "execution_count": 3,
   "id": "57870d84-3930-47c8-8ba7-c2e0f45d92e5",
   "metadata": {},
   "outputs": [
    {
     "name": "stdout",
     "output_type": "stream",
     "text": [
      "This is arc tech institute\n"
     ]
    }
   ],
   "source": [
    "str =  'this is arc tech institute'\n",
    "print(str.capitalize())"
   ]
  },
  {
   "cell_type": "markdown",
   "id": "f1e27d23-b0f0-4971-bd3f-ba9eba3cea90",
   "metadata": {},
   "source": [
    "# casefold"
   ]
  },
  {
   "cell_type": "code",
   "execution_count": 6,
   "id": "526c609f-a2ba-48fb-b4a0-6e61d3e9cd2f",
   "metadata": {},
   "outputs": [
    {
     "name": "stdout",
     "output_type": "stream",
     "text": [
      "india is an asian country\n"
     ]
    }
   ],
   "source": [
    "str = \"INDIA IS AN ASIAN COUNTRY\"\n",
    "print(str.casefold())"
   ]
  },
  {
   "cell_type": "markdown",
   "id": "826367e8-1b9f-4130-add6-a2ee7dcb6f02",
   "metadata": {},
   "source": [
    "# Center"
   ]
  },
  {
   "cell_type": "code",
   "execution_count": 37,
   "id": "941fae8b-4729-4743-b5c4-bccc623c1c51",
   "metadata": {},
   "outputs": [
    {
     "name": "stdout",
     "output_type": "stream",
     "text": [
      "     Python is Programming language     \n"
     ]
    }
   ],
   "source": [
    "\n",
    "str = \"Python is Programming language\"\n",
    "print(str.center(40))\n",
    " "
   ]
  },
  {
   "cell_type": "markdown",
   "id": "d3eefd36-79c7-45c6-b8b7-e49a977ba165",
   "metadata": {},
   "source": [
    "# Count"
   ]
  },
  {
   "cell_type": "code",
   "execution_count": 39,
   "id": "d2da38cd-ff89-4b6f-beaa-6824891a36b2",
   "metadata": {},
   "outputs": [
    {
     "name": "stdout",
     "output_type": "stream",
     "text": [
      "3\n"
     ]
    }
   ],
   "source": [
    "str = \"Welcome to the World\"\n",
    "print(str.count('o'))"
   ]
  },
  {
   "cell_type": "markdown",
   "id": "5cbc7622-9a60-4cbd-93f8-030d306c4eb1",
   "metadata": {},
   "source": [
    "# encode"
   ]
  },
  {
   "cell_type": "code",
   "execution_count": null,
   "id": "f7b3d10e-650b-4043-afc3-c93b5e1e1e49",
   "metadata": {},
   "outputs": [],
   "source": [
    "str =\n",
    "print(str.encode())"
   ]
  },
  {
   "cell_type": "markdown",
   "id": "03b578db-ec30-440c-a151-3a0f80347628",
   "metadata": {},
   "source": [
    "# endswith"
   ]
  },
  {
   "cell_type": "code",
   "execution_count": 53,
   "id": "f8278379-8b13-400d-8b98-ae6dc7675624",
   "metadata": {},
   "outputs": [
    {
     "name": "stdout",
     "output_type": "stream",
     "text": [
      "True\n",
      "False\n"
     ]
    }
   ],
   "source": [
    "str = \"this is demo match\"\n",
    "print(str.endswith(\"match\"))\n",
    "print(str.endswith(\"demo\"))"
   ]
  },
  {
   "cell_type": "markdown",
   "id": "c17052a1-cb33-42f5-8c2a-88818a46a65b",
   "metadata": {},
   "source": [
    "# expandtabs"
   ]
  },
  {
   "cell_type": "code",
   "execution_count": 69,
   "id": "7087da1b-3930-426c-a54b-195ce87b1413",
   "metadata": {},
   "outputs": [
    {
     "name": "stdout",
     "output_type": "stream",
     "text": [
      "I       am      amit\n",
      "I am  amit\n"
     ]
    }
   ],
   "source": [
    "str = \"I\\tam\\tamit\"\n",
    "print(str.expandtabs())\n",
    "print(str.expandtabs(2))"
   ]
  },
  {
   "cell_type": "markdown",
   "id": "0d90003e-0257-4fd5-a63e-da26829675d8",
   "metadata": {},
   "source": [
    "# find"
   ]
  },
  {
   "cell_type": "code",
   "execution_count": 71,
   "id": "3ff600bb-9395-45db-aa47-1e0451ebf619",
   "metadata": {},
   "outputs": [
    {
     "name": "stdout",
     "output_type": "stream",
     "text": [
      "7\n"
     ]
    }
   ],
   "source": [
    "str =\"Hello, welcome to my world.\"\n",
    "print(str.find(\"welcome\"))"
   ]
  },
  {
   "cell_type": "markdown",
   "id": "ccc86e08-ec6c-46ad-96e4-85144180c010",
   "metadata": {},
   "source": [
    "# format"
   ]
  },
  {
   "cell_type": "code",
   "execution_count": 7,
   "id": "a465220a-c3e0-4ede-91c6-7c4e84689892",
   "metadata": {},
   "outputs": [
    {
     "name": "stdout",
     "output_type": "stream",
     "text": [
      "rohan age is25\n"
     ]
    }
   ],
   "source": [
    "Age = 25\n",
    "str = \"rohan age is{}\"\n",
    "print(str.format(Age))"
   ]
  },
  {
   "cell_type": "markdown",
   "id": "a4b44d87-0171-4a4a-8c27-bbdef5c3cd94",
   "metadata": {},
   "source": [
    "# index"
   ]
  },
  {
   "cell_type": "code",
   "execution_count": 2,
   "id": "e2a1f1f4-a3bd-4ddb-8595-11c9d23a8602",
   "metadata": {},
   "outputs": [
    {
     "name": "stdout",
     "output_type": "stream",
     "text": [
      "2\n"
     ]
    }
   ],
   "source": [
    "str = \"this is a first text\"\n",
    "print(str.index('i'))"
   ]
  },
  {
   "cell_type": "markdown",
   "id": "cb836906-b834-4fc0-a85d-067ce4a769d3",
   "metadata": {},
   "source": [
    "# isalnum"
   ]
  },
  {
   "cell_type": "code",
   "execution_count": 5,
   "id": "ae318e96-67f5-412d-b960-600fea34f7bb",
   "metadata": {},
   "outputs": [
    {
     "name": "stdout",
     "output_type": "stream",
     "text": [
      "True\n"
     ]
    }
   ],
   "source": [
    "str= \"mahi07\"\n",
    "print(str.isalnum())"
   ]
  },
  {
   "cell_type": "markdown",
   "id": "50a474d3-ef00-40a8-bd87-a2eee7450284",
   "metadata": {},
   "source": [
    "# isalpha"
   ]
  },
  {
   "cell_type": "code",
   "execution_count": 10,
   "id": "59a1f338-2ba6-4778-af73-be0b9061b130",
   "metadata": {},
   "outputs": [
    {
     "name": "stdout",
     "output_type": "stream",
     "text": [
      "True\n"
     ]
    }
   ],
   "source": [
    "str = \"MahendraSinghDhoni\"\n",
    "print(str.isalpha())"
   ]
  },
  {
   "cell_type": "markdown",
   "id": "0aba9273-9ea8-40f3-af7b-cb2429466d6d",
   "metadata": {},
   "source": [
    "# isdecimal"
   ]
  },
  {
   "cell_type": "code",
   "execution_count": 15,
   "id": "7497cfe4-3c4b-4fb3-882b-5875a57d7fe7",
   "metadata": {},
   "outputs": [
    {
     "name": "stdout",
     "output_type": "stream",
     "text": [
      "True\n"
     ]
    }
   ],
   "source": [
    "str = \"4585\"\n",
    "print(str. isdecimal())"
   ]
  },
  {
   "cell_type": "markdown",
   "id": "79c90884-d67c-46de-a775-656d1deedaef",
   "metadata": {},
   "source": [
    "# isdigit()"
   ]
  },
  {
   "cell_type": "code",
   "execution_count": 18,
   "id": "1683f9dd-2771-481b-b785-39ab3b2bdc30",
   "metadata": {},
   "outputs": [
    {
     "name": "stdout",
     "output_type": "stream",
     "text": [
      "True\n"
     ]
    }
   ],
   "source": [
    "str = \"5896\"\n",
    "print(str.isdigit())"
   ]
  },
  {
   "cell_type": "markdown",
   "id": "4226674b-4317-4fdd-a35c-ae1c02af30a9",
   "metadata": {},
   "source": [
    "#  isidentifier"
   ]
  },
  {
   "cell_type": "code",
   "execution_count": 23,
   "id": "dfae1fb3-d21e-4015-866c-fda653ae3bb7",
   "metadata": {},
   "outputs": [
    {
     "name": "stdout",
     "output_type": "stream",
     "text": [
      "True\n",
      "False\n"
     ]
    }
   ],
   "source": [
    "str = \"task12\"\n",
    "print(str.isidentifier())\n",
    "str1 = \"12task\"\n",
    "print(str1.isidentifier())"
   ]
  },
  {
   "cell_type": "markdown",
   "id": "54d678ba-bebb-4a41-9bd8-7dd6b8bb5b1e",
   "metadata": {},
   "source": [
    "# islower"
   ]
  },
  {
   "cell_type": "code",
   "execution_count": 28,
   "id": "8b076114-adf4-47b3-a4dc-11e225f77276",
   "metadata": {},
   "outputs": [
    {
     "name": "stdout",
     "output_type": "stream",
     "text": [
      "True\n"
     ]
    }
   ],
   "source": [
    "str = \"india is my country\"\n",
    "print(str.islower())"
   ]
  },
  {
   "cell_type": "markdown",
   "id": "7e197c1c-c1dc-49b2-a898-87fbd2c4a4d9",
   "metadata": {},
   "source": [
    "# isnumeric"
   ]
  },
  {
   "cell_type": "code",
   "execution_count": 31,
   "id": "6c4dd3d9-fa14-4b0d-8d75-683f15237258",
   "metadata": {},
   "outputs": [
    {
     "name": "stdout",
     "output_type": "stream",
     "text": [
      "True\n"
     ]
    }
   ],
   "source": [
    "str = \"4589\"\n",
    "print(str.isnumeric())"
   ]
  },
  {
   "cell_type": "markdown",
   "id": "c73c1aae-90da-409f-ad67-f43b3dcf9e3f",
   "metadata": {},
   "source": [
    "# isprintable\n"
   ]
  },
  {
   "cell_type": "code",
   "execution_count": 34,
   "id": "0f07f33d-75f2-4295-9d99-4ee0e515c01f",
   "metadata": {},
   "outputs": [
    {
     "name": "stdout",
     "output_type": "stream",
     "text": [
      "True\n"
     ]
    }
   ],
   "source": [
    "str = \"jamesbond\"\n",
    "print(str.isprintable())"
   ]
  },
  {
   "cell_type": "markdown",
   "id": "180b57ce-4ac3-4167-b7ee-44f0256199de",
   "metadata": {},
   "source": [
    "# isspace "
   ]
  },
  {
   "cell_type": "code",
   "execution_count": 37,
   "id": "bd0c96ca-2e41-46a8-bb0c-41583daf52c6",
   "metadata": {},
   "outputs": [
    {
     "name": "stdout",
     "output_type": "stream",
     "text": [
      "True\n"
     ]
    }
   ],
   "source": [
    "str = \"    \"\n",
    "print(str.isspace()) "
   ]
  },
  {
   "cell_type": "markdown",
   "id": "211555bb-3ad1-4a20-a920-91f1d1bf0a5f",
   "metadata": {},
   "source": [
    "# istitle"
   ]
  },
  {
   "cell_type": "code",
   "execution_count": 42,
   "id": "363cc4d9-4665-442a-82d3-be4409797627",
   "metadata": {},
   "outputs": [
    {
     "name": "stdout",
     "output_type": "stream",
     "text": [
      "True\n",
      "False\n"
     ]
    }
   ],
   "source": [
    "str = \"India\"\n",
    "print(str.istitle())\n",
    "str1 = \"india\"\n",
    "print(str1.istitle())"
   ]
  },
  {
   "cell_type": "markdown",
   "id": "919dc381-ba5a-42c7-b38d-04aeed68e14b",
   "metadata": {},
   "source": [
    "# isupper"
   ]
  },
  {
   "cell_type": "code",
   "execution_count": 47,
   "id": "76b4967e-e9ec-4c6a-ae8b-454ec04b3dd7",
   "metadata": {},
   "outputs": [
    {
     "name": "stdout",
     "output_type": "stream",
     "text": [
      "True\n"
     ]
    }
   ],
   "source": [
    "str = \"HE IS ALWAYS FIRST IN CLASS\"\n",
    "print(str.isupper())"
   ]
  },
  {
   "cell_type": "markdown",
   "id": "8afb09fd-6b71-4d6f-82e2-3face52a8aaf",
   "metadata": {},
   "source": [
    "#  join"
   ]
  },
  {
   "cell_type": "code",
   "execution_count": 50,
   "id": "ff2e4c6f-98ee-44c1-bc26-9dbe22682856",
   "metadata": {},
   "outputs": [
    {
     "name": "stdout",
     "output_type": "stream",
     "text": [
      "Amit#Peter#Vicky\n"
     ]
    }
   ],
   "source": [
    "str =(\"Amit\",\"Peter\", \"Vicky\")\n",
    "sep = \"#\"\n",
    "print(sep.join(str)) "
   ]
  },
  {
   "cell_type": "markdown",
   "id": "89a63bdd-0132-4ed7-9df0-f1248cabd774",
   "metadata": {},
   "source": [
    "# rjust"
   ]
  },
  {
   "cell_type": "code",
   "execution_count": 83,
   "id": "184a30d9-6c3a-4cd2-9d81-093f6649c15d",
   "metadata": {},
   "outputs": [
    {
     "name": "stdout",
     "output_type": "stream",
     "text": [
      "AAAAAAAAbeautiful country\n"
     ]
    }
   ],
   "source": [
    "str =  \"beautiful country\"\n",
    "print(str.rjust(25,\"A\"))"
   ]
  },
  {
   "cell_type": "markdown",
   "id": "677cad37-87d7-4437-82aa-4772b7da0ab4",
   "metadata": {},
   "source": [
    "# lower"
   ]
  },
  {
   "cell_type": "code",
   "execution_count": 54,
   "id": "336841a3-ebda-4632-b981-d3dd17e5169a",
   "metadata": {},
   "outputs": [
    {
     "name": "stdout",
     "output_type": "stream",
     "text": [
      "hello my friends\n"
     ]
    }
   ],
   "source": [
    "str = \"Hello my FRIENDS\"\n",
    "print(str.lower())\n"
   ]
  },
  {
   "cell_type": "markdown",
   "id": "8434e82f-a9f0-4e6e-88e6-eea5c87c7149",
   "metadata": {},
   "source": [
    "# lstrip"
   ]
  },
  {
   "cell_type": "code",
   "execution_count": 61,
   "id": "a176887d-0ebe-4e77-9c7b-c6cd93f891e2",
   "metadata": {},
   "outputs": [
    {
     "name": "stdout",
     "output_type": "stream",
     "text": [
      "All THE BEST\n"
     ]
    }
   ],
   "source": [
    "str = \"#####All THE BEST\"\n",
    "print(str.lstrip(\"#\"))"
   ]
  },
  {
   "cell_type": "markdown",
   "id": "771b4b62-cb4a-4534-a6ae-7f6abd9d13b5",
   "metadata": {},
   "source": [
    "# replace()"
   ]
  },
  {
   "cell_type": "code",
   "execution_count": 64,
   "id": "44af01ff-2055-4e9c-9112-752e6c93f3b8",
   "metadata": {},
   "outputs": [
    {
     "name": "stdout",
     "output_type": "stream",
     "text": [
      " this is text\n"
     ]
    }
   ],
   "source": [
    "str = \" this is demo\"\n",
    "print(str.replace(\"demo\",\"text\"))\n",
    "\n"
   ]
  },
  {
   "cell_type": "markdown",
   "id": "70b5df60-eb0f-44b4-814b-f55971fdeb4d",
   "metadata": {},
   "source": [
    "# rfind"
   ]
  },
  {
   "cell_type": "code",
   "execution_count": 69,
   "id": "5f22c892-972d-4d43-a564-591bb6c6729e",
   "metadata": {},
   "outputs": [
    {
     "name": "stdout",
     "output_type": "stream",
     "text": [
      "30\n"
     ]
    }
   ],
   "source": [
    "str = \"this is demo. this is another demo\" \n",
    "print(str.rfind(\"demo\"))"
   ]
  },
  {
   "cell_type": "markdown",
   "id": "077ea1b9-9f1a-4281-b8e1-bcca662a243b",
   "metadata": {},
   "source": [
    "# rindex"
   ]
  },
  {
   "cell_type": "code",
   "execution_count": 76,
   "id": "08fcb8dd-4d0e-4ed4-9a1f-ef9dd3fae9ae",
   "metadata": {},
   "outputs": [
    {
     "name": "stdout",
     "output_type": "stream",
     "text": [
      "47\n"
     ]
    }
   ],
   "source": [
    "str = \"this is test. this is another test.Yet another test\" \n",
    "print(str.rindex(\"test\"))"
   ]
  },
  {
   "cell_type": "markdown",
   "id": "7140d241-4612-4290-b16e-43262b69d54e",
   "metadata": {},
   "source": [
    "# rsplit\n"
   ]
  },
  {
   "cell_type": "code",
   "execution_count": 86,
   "id": "c1df8688-ab8c-426e-ac94-be3ed9b85445",
   "metadata": {},
   "outputs": [
    {
     "name": "stdout",
     "output_type": "stream",
     "text": [
      "['apple, banana, cherry']\n"
     ]
    }
   ],
   "source": [
    "str = \"apple, banana, cherry\"\n",
    "print(str.rsplit(\".\"))"
   ]
  },
  {
   "cell_type": "markdown",
   "id": "a2a9f67d-d7bf-4fa3-ac1e-2f40968f6407",
   "metadata": {},
   "source": [
    "# rstrip"
   ]
  },
  {
   "cell_type": "code",
   "execution_count": 89,
   "id": "d0c7a2bc-0579-4f65-b9fd-b6df2614ee29",
   "metadata": {},
   "outputs": [
    {
     "name": "stdout",
     "output_type": "stream",
     "text": [
      "REMOVE CHCT FROM RIGHT\n"
     ]
    }
   ],
   "source": [
    "str = \"REMOVE CHCT FROM RIGHT#####\"\n",
    "print(str.rstrip(\"#\"))"
   ]
  },
  {
   "cell_type": "markdown",
   "id": "2d6aa4cc-90e1-4957-9e43-2231a5c1c633",
   "metadata": {},
   "source": [
    "# strip"
   ]
  },
  {
   "cell_type": "code",
   "execution_count": 5,
   "id": "5bd37716-0e31-4322-b5e1-ba4d86d3bfa1",
   "metadata": {},
   "outputs": [
    {
     "name": "stdout",
     "output_type": "stream",
     "text": [
      "banana\n"
     ]
    }
   ],
   "source": [
    "str =  \"     banana     \"\n",
    "print(str.strip())"
   ]
  },
  {
   "cell_type": "markdown",
   "id": "9a4b08b6-9487-487e-8251-634ffb9d3fd3",
   "metadata": {},
   "source": [
    "# split"
   ]
  },
  {
   "cell_type": "code",
   "execution_count": 92,
   "id": "fe10b786-7aba-4333-bff0-9011b4c40dfa",
   "metadata": {},
   "outputs": [
    {
     "name": "stdout",
     "output_type": "stream",
     "text": [
      "['welcome', 'to', 'the', 'jungle']\n"
     ]
    }
   ],
   "source": [
    "str = \"welcome to the jungle\"\n",
    "print(str.split())"
   ]
  },
  {
   "cell_type": "markdown",
   "id": "8571f9fc-b917-4efa-ad14-bc4274245c36",
   "metadata": {},
   "source": [
    "# splitlines"
   ]
  },
  {
   "cell_type": "code",
   "execution_count": 95,
   "id": "77689c1f-b031-4ba0-a53b-6dd682f10ef8",
   "metadata": {},
   "outputs": [
    {
     "name": "stdout",
     "output_type": "stream",
     "text": [
      "['Thank you  god ', 'Welcome to the jungle']\n"
     ]
    }
   ],
   "source": [
    "str = \"Thank you  god \\nWelcome to the jungle\"\n",
    "\n",
    "print(str.splitlines())"
   ]
  },
  {
   "cell_type": "markdown",
   "id": "c4ca63f3-74c3-456e-bab5-5530dcf44208",
   "metadata": {},
   "source": [
    "# startswith"
   ]
  },
  {
   "cell_type": "code",
   "execution_count": 102,
   "id": "127a8372-cefe-450a-aedc-897c18687ce9",
   "metadata": {},
   "outputs": [
    {
     "name": "stdout",
     "output_type": "stream",
     "text": [
      "True\n"
     ]
    }
   ],
   "source": [
    " str = \"Hello, my name is dhoni.\"\n",
    "print(str.startswith(\"Hello\"))"
   ]
  },
  {
   "cell_type": "markdown",
   "id": "79784cb7-e375-4b68-9a41-fb5cffc03b94",
   "metadata": {},
   "source": [
    "# swapcase() "
   ]
  },
  {
   "cell_type": "code",
   "execution_count": 105,
   "id": "da0a74ee-f37f-4f3c-87a9-779dfc8ad7bd",
   "metadata": {},
   "outputs": [
    {
     "name": "stdout",
     "output_type": "stream",
     "text": [
      "hELLO mY nAME iS amit\n"
     ]
    }
   ],
   "source": [
    "str = \"Hello My Name Is AMIT\"\n",
    "\n",
    "print(str.swapcase())"
   ]
  },
  {
   "cell_type": "markdown",
   "id": "3ab9a24a-d1cf-4164-a765-4115f763d401",
   "metadata": {},
   "source": [
    "#  title"
   ]
  },
  {
   "cell_type": "code",
   "execution_count": 108,
   "id": "fdf6594f-e6a4-435e-88fc-81ca908fe780",
   "metadata": {},
   "outputs": [
    {
     "name": "stdout",
     "output_type": "stream",
     "text": [
      "Arc Is Very Famous Institute\n"
     ]
    }
   ],
   "source": [
    "str = \"Arc is very famous institute\"\n",
    "print(str.title())"
   ]
  },
  {
   "cell_type": "markdown",
   "id": "f5c0fb4b-bd97-4a38-8b5e-9bb5b1eeff8c",
   "metadata": {},
   "source": [
    "# upper"
   ]
  },
  {
   "cell_type": "code",
   "execution_count": 111,
   "id": "fa38dfe4-d08f-4005-a073-038dfacb9721",
   "metadata": {},
   "outputs": [
    {
     "name": "stdout",
     "output_type": "stream",
     "text": [
      "ARC LUXURY IS HOLDING INVESMENT\n"
     ]
    }
   ],
   "source": [
    "str = \"Arc luxury is holding invesment\"\n",
    "print(str.upper())"
   ]
  },
  {
   "cell_type": "markdown",
   "id": "366fe81a-2487-4b51-8a31-501daeec885c",
   "metadata": {},
   "source": [
    "# zfill"
   ]
  },
  {
   "cell_type": "code",
   "execution_count": 2,
   "id": "d1ae63f3-16b1-41c3-b956-425d78dabdaa",
   "metadata": {},
   "outputs": [
    {
     "name": "stdout",
     "output_type": "stream",
     "text": [
      "00Hello\n"
     ]
    }
   ],
   "source": [
    "str = \"Hello\"\n",
    "print(str.zfill(7))"
   ]
  },
  {
   "cell_type": "code",
   "execution_count": null,
   "id": "c1e35606-870d-4cfe-9fdf-45f1e9347638",
   "metadata": {},
   "outputs": [],
   "source": []
  }
 ],
 "metadata": {
  "kernelspec": {
   "display_name": "Python 3 (ipykernel)",
   "language": "python",
   "name": "python3"
  },
  "language_info": {
   "codemirror_mode": {
    "name": "ipython",
    "version": 3
   },
   "file_extension": ".py",
   "mimetype": "text/x-python",
   "name": "python",
   "nbconvert_exporter": "python",
   "pygments_lexer": "ipython3",
   "version": "3.11.7"
  }
 },
 "nbformat": 4,
 "nbformat_minor": 5
}
